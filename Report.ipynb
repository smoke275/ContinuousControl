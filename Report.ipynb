{
 "cells": [
  {
   "cell_type": "markdown",
   "metadata": {},
   "source": [
    "# Continuous Control\n",
    "\n",
    "---\n",
    "\n",
    "You are welcome to use this coding environment to train your agent for the project.  Follow the instructions below to get started!\n",
    "\n",
    "### 0. Clean Up the Zombie Processes\n",
    "At the end of this notebook, when you execute `env.close()`, it does not clean up the environment completely. Instead, the Unity environment process becomes a \"zombie\" process. A zombie process is one that has completed execution but still has an entry in the process table because its parent process hasn’t properly reaped it.\n",
    "You can yourself verify this by running these commands in the terminal. Find the parent process ID (PPID) of the zombie process:\n",
    "```bash\n",
    "ps -o pid,ppid,stat,cmd | grep Reacher\n",
    "```\n",
    "If the parent process (PPID) is not 1, kill it to clean up the zombie process:\n",
    "```bash\n",
    "kill -9 <PPID>\n",
    "```\n",
    "Below is the equivalent Python code that checks for and cleans zombie processes using `psutil`. **You need run the cell below only when you restart the Unity environment.** \n",
    "\n",
    "> **NOTE**: The code cell below will also kill the Kernel. You should restart it when required."
   ]
  },
  {
   "cell_type": "code",
   "execution_count": 1,
   "metadata": {},
   "outputs": [],
   "source": [
    "import psutil\n",
    "\n",
    "def cleanup_zombie_processes():\n",
    "    for proc in psutil.process_iter(['pid', 'ppid', 'name', 'status']):\n",
    "        if proc.info['name'] == 'Reacher_One_Lin' and proc.info['status'] == 'zombie':\n",
    "            print(f\"Zombie process detected: {proc.info}\")\n",
    "            parent = psutil.Process(proc.info['ppid'])\n",
    "            print(f\"Terminating parent process: {parent}\")\n",
    "            parent.terminate()\n",
    "\n",
    "cleanup_zombie_processes()"
   ]
  },
  {
   "cell_type": "markdown",
   "metadata": {},
   "source": [
    "### 1. Start the Environment\n",
    "\n",
    "Run the next code cell to install a few packages.  This line will take a few minutes to run!"
   ]
  },
  {
   "cell_type": "code",
   "execution_count": 1,
   "metadata": {},
   "outputs": [
    {
     "name": "stdout",
     "output_type": "stream",
     "text": [
      "\r\n",
      "\u001b[1m[\u001b[0m\u001b[34;49mnotice\u001b[0m\u001b[1;39;49m]\u001b[0m\u001b[39;49m A new release of pip is available: \u001b[0m\u001b[31;49m23.2.1\u001b[0m\u001b[39;49m -> \u001b[0m\u001b[32;49m25.1.1\u001b[0m\r\n",
      "\u001b[1m[\u001b[0m\u001b[34;49mnotice\u001b[0m\u001b[1;39;49m]\u001b[0m\u001b[39;49m To update, run: \u001b[0m\u001b[32;49mpython3 -m pip install --upgrade pip\u001b[0m\r\n"
     ]
    }
   ],
   "source": [
    "!pip -q install ."
   ]
  },
  {
   "cell_type": "markdown",
   "metadata": {},
   "source": [
    "The environments corresponding to both versions of the environment are already saved in the Workspace and can be accessed at the file paths provided below.  \n",
    "\n",
    "Please select one of the two options below for loading the environment."
   ]
  },
  {
   "cell_type": "code",
   "execution_count": 2,
   "metadata": {},
   "outputs": [
    {
     "name": "stdout",
     "output_type": "stream",
     "text": [
      "Found path: /data/Reacher_One_Linux_NoVis/Reacher_One_Linux_NoVis.x86_64\n",
      "Mono path[0] = '/data/Reacher_One_Linux_NoVis/Reacher_One_Linux_NoVis_Data/Managed'\n",
      "Mono config path = '/data/Reacher_One_Linux_NoVis/Reacher_One_Linux_NoVis_Data/MonoBleedingEdge/etc'\n",
      "Preloaded 'libgrpc_csharp_ext.x64.so'\n",
      "Unable to preload the following plugins:\n",
      "\tlibgrpc_csharp_ext.x86.so\n",
      "Logging to /home/student/.config/unity3d/Unity Technologies/Unity Environment/Player.log\n"
     ]
    },
    {
     "name": "stderr",
     "output_type": "stream",
     "text": [
      "INFO:unityagents:\n",
      "'Academy' started successfully!\n",
      "Unity Academy name: Academy\n",
      "        Number of Brains: 1\n",
      "        Number of External Brains : 1\n",
      "        Lesson number : 0\n",
      "        Reset Parameters :\n",
      "\t\tgoal_size -> 5.0\n",
      "\t\tgoal_speed -> 1.0\n",
      "Unity brain name: ReacherBrain\n",
      "        Number of Visual Observations (per agent): 0\n",
      "        Vector Observation space type: continuous\n",
      "        Vector Observation space size (per agent): 33\n",
      "        Number of stacked Vector Observation: 1\n",
      "        Vector Action space type: continuous\n",
      "        Vector Action space size (per agent): 4\n",
      "        Vector Action descriptions: , , , \n"
     ]
    }
   ],
   "source": [
    "from unityagents import UnityEnvironment\n",
    "import numpy as np\n",
    "\n",
    "# select this option to load version 1 (with a single agent) of the environment\n",
    "env = UnityEnvironment(file_name='/data/Reacher_One_Linux_NoVis/Reacher_One_Linux_NoVis.x86_64')\n",
    "\n",
    "# select this option to load version 2 (with 20 agents) of the environment\n",
    "# env = UnityEnvironment(file_name='/data/Reacher_Linux_NoVis/Reacher.x86_64')"
   ]
  },
  {
   "cell_type": "markdown",
   "metadata": {},
   "source": [
    "Environments contain **_brains_** which are responsible for deciding the actions of their associated agents. Here we check for the first brain available, and set it as the default brain we will be controlling from Python."
   ]
  },
  {
   "cell_type": "code",
   "execution_count": 3,
   "metadata": {},
   "outputs": [],
   "source": [
    "# get the default brain\n",
    "brain_name = env.brain_names[0]\n",
    "brain = env.brains[brain_name]"
   ]
  },
  {
   "cell_type": "markdown",
   "metadata": {},
   "source": [
    "### 2. Examine the State and Action Spaces\n",
    "\n",
    "Run the code cell below to print some information about the environment."
   ]
  },
  {
   "cell_type": "code",
   "execution_count": 4,
   "metadata": {},
   "outputs": [
    {
     "name": "stdout",
     "output_type": "stream",
     "text": [
      "Number of agents: 1\n",
      "Size of each action: 4\n",
      "There are 1 agents. Each observes a state with length: 33\n",
      "The state for the first agent looks like: [ 0.00000000e+00 -4.00000000e+00  0.00000000e+00  1.00000000e+00\n",
      " -0.00000000e+00 -0.00000000e+00 -4.37113883e-08  0.00000000e+00\n",
      "  0.00000000e+00  0.00000000e+00  0.00000000e+00  0.00000000e+00\n",
      "  0.00000000e+00  0.00000000e+00 -1.00000000e+01  0.00000000e+00\n",
      "  1.00000000e+00 -0.00000000e+00 -0.00000000e+00 -4.37113883e-08\n",
      "  0.00000000e+00  0.00000000e+00  0.00000000e+00  0.00000000e+00\n",
      "  0.00000000e+00  0.00000000e+00  5.75471878e+00 -1.00000000e+00\n",
      "  5.55726671e+00  0.00000000e+00  1.00000000e+00  0.00000000e+00\n",
      " -1.68164849e-01]\n"
     ]
    }
   ],
   "source": [
    "# reset the environment\n",
    "env_info = env.reset(train_mode=True)[brain_name]\n",
    "\n",
    "# number of agents\n",
    "num_agents = len(env_info.agents)\n",
    "print('Number of agents:', num_agents)\n",
    "\n",
    "# size of each action\n",
    "action_size = brain.vector_action_space_size\n",
    "print('Size of each action:', action_size)\n",
    "\n",
    "# examine the state space \n",
    "states = env_info.vector_observations\n",
    "state_size = states.shape[1]\n",
    "print('There are {} agents. Each observes a state with length: {}'.format(states.shape[0], state_size))\n",
    "print('The state for the first agent looks like:', states[0])"
   ]
  },
  {
   "cell_type": "markdown",
   "metadata": {},
   "source": [
    "### 3. Take Random Actions in the Environment\n",
    "\n",
    "In the next code cell, you will learn how to use the Python API to control the agent and receive feedback from the environment.\n",
    "\n",
    "Note that **in this coding environment, you will not be able to watch the agents while they are training**, and you should set `train_mode=True` to restart the environment."
   ]
  },
  {
   "cell_type": "markdown",
   "metadata": {},
   "source": [
    "env_info = env.reset(train_mode=True)[brain_name]      # reset the environment    \n",
    "states = env_info.vector_observations                  # get the current state (for each agent)\n",
    "scores = np.zeros(num_agents)                          # initialize the score (for each agent)\n",
    "while True:\n",
    "    actions = np.random.randn(num_agents, action_size) # select an action (for each agent)\n",
    "    actions = np.clip(actions, -1, 1)                  # all actions between -1 and 1\n",
    "    env_info = env.step(actions)[brain_name]           # send all actions to tne environment\n",
    "    next_states = env_info.vector_observations         # get next state (for each agent)\n",
    "    rewards = env_info.rewards                         # get reward (for each agent)\n",
    "    dones = env_info.local_done                        # see if episode finished\n",
    "    scores += env_info.rewards                         # update the score (for each agent)\n",
    "    states = next_states                               # roll over states to next time step\n",
    "    if np.any(dones):                                  # exit loop if episode finished\n",
    "        break\n",
    "print('Total score (averaged over agents) this episode: {}'.format(np.mean(scores)))"
   ]
  },
  {
   "cell_type": "markdown",
   "metadata": {},
   "source": [
    "When finished, you can close the environment."
   ]
  },
  {
   "cell_type": "markdown",
   "metadata": {},
   "source": [
    "env.close()"
   ]
  },
  {
   "cell_type": "markdown",
   "metadata": {},
   "source": [
    "### 4. It's Your Turn!\n",
    "\n",
    "Now it's your turn to train your own agent to solve the environment!  A few **important notes**:\n",
    "- When training the environment, set `train_mode=True`, so that the line for resetting the environment looks like the following:\n",
    "```python\n",
    "env_info = env.reset(train_mode=True)[brain_name]\n",
    "```\n",
    "- To structure your work, you're welcome to work directly in this Jupyter notebook, or you might like to start over with a new file!  You can see the list of files in the workspace by clicking on **_Jupyter_** in the top left corner of the notebook.\n",
    "- In this coding environment, you will not be able to watch the agents while they are training.  However, **_after training the agents_**, you can download the saved model weights to watch the agents on your own machine! "
   ]
  },
  {
   "cell_type": "code",
   "execution_count": 5,
   "metadata": {},
   "outputs": [
    {
     "name": "stdout",
     "output_type": "stream",
     "text": [
      "State dimension: 33, Action dimension: 4\n",
      "\n",
      "=== ACTOR Architecture ===\n",
      "Model: Actor\n",
      "  fc1.weight: [600, 33] -> 19,800 parameters\n",
      "  fc1.bias: [600] -> 600 parameters\n",
      "  fc2.weight: [400, 600] -> 240,000 parameters\n",
      "  fc2.bias: [400] -> 400 parameters\n",
      "  fc3.weight: [200, 400] -> 80,000 parameters\n",
      "  fc3.bias: [200] -> 200 parameters\n",
      "  fc4.weight: [4, 200] -> 800 parameters\n",
      "  fc4.bias: [4] -> 4 parameters\n",
      "Total parameters: 341,804\n",
      "Model structure:\n",
      "Actor(\n",
      "  (fc1): Linear(in_features=33, out_features=600, bias=True)\n",
      "  (fc2): Linear(in_features=600, out_features=400, bias=True)\n",
      "  (fc3): Linear(in_features=400, out_features=200, bias=True)\n",
      "  (fc4): Linear(in_features=200, out_features=4, bias=True)\n",
      ")\n",
      "\n",
      "=== CRITIC Architecture ===\n",
      "Model: Critic\n",
      "  fcs1.weight: [400, 33] -> 13,200 parameters\n",
      "  fcs1.bias: [400] -> 400 parameters\n",
      "  fc2.weight: [300, 404] -> 121,200 parameters\n",
      "  fc2.bias: [300] -> 300 parameters\n",
      "  fc3.weight: [1, 300] -> 300 parameters\n",
      "  fc3.bias: [1] -> 1 parameters\n",
      "Total parameters: 135,401\n",
      "Model structure:\n",
      "Critic(\n",
      "  (fcs1): Linear(in_features=33, out_features=400, bias=True)\n",
      "  (fc2): Linear(in_features=404, out_features=300, bias=True)\n",
      "  (fc3): Linear(in_features=300, out_features=1, bias=True)\n",
      ")\n"
     ]
    }
   ],
   "source": [
    "from DDPG_agent import Agent\n",
    "import random\n",
    "from collections import deque\n",
    "\n",
    "state_dim = env_info.vector_observations.shape[1]\n",
    "action_dim = brain.vector_action_space_size\n",
    "print(f\"State dimension: {state_dim}, Action dimension: {action_dim}\")\n",
    "\n",
    "agent = Agent(state_size=state_dim, action_size=action_dim, random_seed=4)\n",
    "\n",
    "def print_model_architecture(model, model_name):\n",
    "    print(f\"\\n=== {model_name} Architecture ===\")\n",
    "    print(f\"Model: {model.__class__.__name__}\")\n",
    "    \n",
    "    total_params = 0\n",
    "    for name, param in model.named_parameters():\n",
    "        param_count = param.numel()\n",
    "        total_params += param_count\n",
    "        print(f\"  {name}: {list(param.shape)} -> {param_count:,} parameters\")\n",
    "    \n",
    "    print(f\"Total parameters: {total_params:,}\")\n",
    "    print(f\"Model structure:\\n{model}\")\n",
    "\n",
    "# Print only the local networks (not targets)\n",
    "print_model_architecture(agent.actor_local, \"ACTOR\")\n",
    "print_model_architecture(agent.critic_local, \"CRITIC\")"
   ]
  },
  {
   "cell_type": "code",
   "execution_count": 6,
   "metadata": {},
   "outputs": [
    {
     "name": "stdout",
     "output_type": "stream",
     "text": [
      "No checkpoints found, starting from scratch...\n"
     ]
    },
    {
     "name": "stderr",
     "output_type": "stream",
     "text": [
      "Training Progress:   2%|▎         | 10/400 [04:58<3:15:30, 30.08s/it, Score=0.61, Avg=0.97, Time=30.2s, Total=5.0m]"
     ]
    },
    {
     "name": "stdout",
     "output_type": "stream",
     "text": [
      "\r",
      "Episode 10\tAverage Score: 0.97\n"
     ]
    },
    {
     "name": "stderr",
     "output_type": "stream",
     "text": [
      "Training Progress:   5%|▌         | 20/400 [10:00<3:10:17, 30.04s/it, Score=1.07, Avg=1.02, Time=29.8s, Total=10.0m]"
     ]
    },
    {
     "name": "stdout",
     "output_type": "stream",
     "text": [
      "\r",
      "Episode 20\tAverage Score: 1.02\n"
     ]
    },
    {
     "name": "stderr",
     "output_type": "stream",
     "text": [
      "Training Progress:   8%|▊         | 30/400 [14:59<3:05:30, 30.08s/it, Score=3.76, Avg=1.55, Time=30.6s, Total=15.0m]"
     ]
    },
    {
     "name": "stdout",
     "output_type": "stream",
     "text": [
      "\r",
      "Episode 30\tAverage Score: 1.55\n"
     ]
    },
    {
     "name": "stderr",
     "output_type": "stream",
     "text": [
      "Training Progress:  10%|█         | 40/400 [20:08<3:05:34, 30.93s/it, Score=7.17, Avg=2.25, Time=31.2s, Total=20.1m]"
     ]
    },
    {
     "name": "stdout",
     "output_type": "stream",
     "text": [
      "\r",
      "Episode 40\tAverage Score: 2.25\n"
     ]
    },
    {
     "name": "stderr",
     "output_type": "stream",
     "text": [
      "Training Progress:  12%|█▎        | 50/400 [25:18<3:01:33, 31.12s/it, Score=5.73, Avg=3.00, Time=31.3s, Total=25.3m] "
     ]
    },
    {
     "name": "stdout",
     "output_type": "stream",
     "text": [
      "\r",
      "Episode 50\tAverage Score: 3.00\n"
     ]
    },
    {
     "name": "stderr",
     "output_type": "stream",
     "text": [
      "Training Progress:  15%|█▌        | 60/400 [30:30<2:56:25, 31.13s/it, Score=10.65, Avg=4.00, Time=31.6s, Total=30.5m]"
     ]
    },
    {
     "name": "stdout",
     "output_type": "stream",
     "text": [
      "\r",
      "Episode 60\tAverage Score: 4.00\n"
     ]
    },
    {
     "name": "stderr",
     "output_type": "stream",
     "text": [
      "Training Progress:  18%|█▊        | 70/400 [35:41<2:51:22, 31.16s/it, Score=13.26, Avg=4.55, Time=31.0s, Total=35.7m]"
     ]
    },
    {
     "name": "stdout",
     "output_type": "stream",
     "text": [
      "\r",
      "Episode 70\tAverage Score: 4.55\n"
     ]
    },
    {
     "name": "stderr",
     "output_type": "stream",
     "text": [
      "Training Progress:  20%|██        | 80/400 [40:49<2:43:51, 30.72s/it, Score=14.27, Avg=5.80, Time=30.5s, Total=40.8m]"
     ]
    },
    {
     "name": "stdout",
     "output_type": "stream",
     "text": [
      "\r",
      "Episode 80\tAverage Score: 5.80\n"
     ]
    },
    {
     "name": "stderr",
     "output_type": "stream",
     "text": [
      "Training Progress:  22%|██▎       | 90/400 [45:56<2:38:28, 30.67s/it, Score=18.38, Avg=6.78, Time=30.5s, Total=45.9m]"
     ]
    },
    {
     "name": "stdout",
     "output_type": "stream",
     "text": [
      "\r",
      "Episode 90\tAverage Score: 6.78\n"
     ]
    },
    {
     "name": "stderr",
     "output_type": "stream",
     "text": [
      "Training Progress:  25%|██▌       | 100/400 [51:04<2:33:45, 30.75s/it, Score=22.71, Avg=7.92, Time=30.8s, Total=51.1m]"
     ]
    },
    {
     "name": "stdout",
     "output_type": "stream",
     "text": [
      "\r",
      "Episode 100\tAverage Score: 7.92\n"
     ]
    },
    {
     "name": "stderr",
     "output_type": "stream",
     "text": [
      "Training Progress:  28%|██▊       | 110/400 [56:13<2:29:29, 30.93s/it, Score=25.48, Avg=10.05, Time=31.0s, Total=56.2m]"
     ]
    },
    {
     "name": "stdout",
     "output_type": "stream",
     "text": [
      "\r",
      "Episode 110\tAverage Score: 10.05\n"
     ]
    },
    {
     "name": "stderr",
     "output_type": "stream",
     "text": [
      "Training Progress:  30%|███       | 120/400 [1:01:23<2:24:35, 30.98s/it, Score=33.21, Avg=12.81, Time=30.9s, Total=61.4m]"
     ]
    },
    {
     "name": "stdout",
     "output_type": "stream",
     "text": [
      "\r",
      "Episode 120\tAverage Score: 12.81\n"
     ]
    },
    {
     "name": "stderr",
     "output_type": "stream",
     "text": [
      "Training Progress:  32%|███▎      | 130/400 [1:06:33<2:19:13, 30.94s/it, Score=37.64, Avg=16.21, Time=30.9s, Total=66.6m]"
     ]
    },
    {
     "name": "stdout",
     "output_type": "stream",
     "text": [
      "\r",
      "Episode 130\tAverage Score: 16.21\n"
     ]
    },
    {
     "name": "stderr",
     "output_type": "stream",
     "text": [
      "Training Progress:  35%|███▌      | 140/400 [1:11:42<2:13:51, 30.89s/it, Score=39.25, Avg=19.60, Time=30.8s, Total=71.7m]"
     ]
    },
    {
     "name": "stdout",
     "output_type": "stream",
     "text": [
      "\r",
      "Episode 140\tAverage Score: 19.60\n"
     ]
    },
    {
     "name": "stderr",
     "output_type": "stream",
     "text": [
      "Training Progress:  38%|███▊      | 150/400 [1:16:53<2:09:06, 30.99s/it, Score=39.63, Avg=22.89, Time=30.8s, Total=76.9m]"
     ]
    },
    {
     "name": "stdout",
     "output_type": "stream",
     "text": [
      "\r",
      "Episode 150\tAverage Score: 22.89\n"
     ]
    },
    {
     "name": "stderr",
     "output_type": "stream",
     "text": [
      "Training Progress:  40%|████      | 160/400 [1:22:03<2:04:18, 31.08s/it, Score=36.52, Avg=25.75, Time=31.2s, Total=82.1m]"
     ]
    },
    {
     "name": "stdout",
     "output_type": "stream",
     "text": [
      "\r",
      "Episode 160\tAverage Score: 25.75\n"
     ]
    },
    {
     "name": "stderr",
     "output_type": "stream",
     "text": [
      "Training Progress:  42%|████▎     | 170/400 [1:27:14<1:59:27, 31.16s/it, Score=39.40, Avg=28.72, Time=31.2s, Total=87.2m]"
     ]
    },
    {
     "name": "stdout",
     "output_type": "stream",
     "text": [
      "\r",
      "Episode 170\tAverage Score: 28.72\n"
     ]
    },
    {
     "name": "stderr",
     "output_type": "stream",
     "text": [
      "Training Progress:  44%|████▍     | 175/400 [1:30:21<1:56:10, 30.98s/it, Score=39.53, Avg=30.24, Time=31.1s, Total=90.4m]"
     ]
    },
    {
     "name": "stdout",
     "output_type": "stream",
     "text": [
      "\n",
      "Environment Solved in Episode 176\tAverage Score: 30.24\n"
     ]
    },
    {
     "name": "stderr",
     "output_type": "stream",
     "text": [
      "\n"
     ]
    }
   ],
   "source": [
    "import time\n",
    "from tqdm import tqdm\n",
    "import os\n",
    "import torch\n",
    "\n",
    "def ddpg(n_episodes=400, max_t=1000, resume_from_checkpoint=True, start_episode=1):\n",
    "    scores_deque = deque(maxlen=100) \n",
    "    max_score = -np.Inf \n",
    "    avg_score = []\n",
    "    update_step = 5\n",
    "    \n",
    "    # Load checkpoints if they exist and resume is enabled\n",
    "    if resume_from_checkpoint:\n",
    "        if os.path.exists('checkpoint_actor.pth') and os.path.exists('checkpoint_critic.pth'):\n",
    "            print(\"Loading saved checkpoints...\")\n",
    "            \n",
    "            # Use device-specific loading\n",
    "            device = torch.device(\"cuda:0\" if torch.cuda.is_available() else \"cpu\")\n",
    "            \n",
    "            actor_checkpoint = torch.load('checkpoint_actor.pth', map_location=device)\n",
    "            critic_checkpoint = torch.load('checkpoint_critic.pth', map_location=device)\n",
    "            \n",
    "            # Load state dictionaries to both local and target networks\n",
    "            agent.actor_local.load_state_dict(actor_checkpoint)\n",
    "            agent.actor_target.load_state_dict(actor_checkpoint)\n",
    "            agent.critic_local.load_state_dict(critic_checkpoint)\n",
    "            agent.critic_target.load_state_dict(critic_checkpoint)\n",
    "            \n",
    "            print(\"Checkpoints loaded successfully!\")\n",
    "        else:\n",
    "            print(\"No checkpoints found, starting from scratch...\")\n",
    "    \n",
    "    start_time = time.time()\n",
    "    \n",
    "    # Create tqdm progress bar starting from the specified episode\n",
    "    pbar = tqdm(range(start_episode, n_episodes+1), desc=\"Training Progress\")\n",
    "    \n",
    "    for i_episode in pbar:\n",
    "        episode_start_time = time.time()\n",
    "        \n",
    "        env_info = env.reset(train_mode=True)[brain_name]  \n",
    "        states = env_info.vector_observations                  # get the current state (for each agent) \n",
    "        scores = np.zeros(num_agents)\n",
    "        \n",
    "        for t in range(max_t):\n",
    "            actions = agent.act(states)\n",
    "            env_info = env.step(actions)[brain_name]           # send all actions to tne environment\n",
    "            next_states = env_info.vector_observations         # get next state (for each agent)\n",
    "            rewards = env_info.rewards                         # get reward (for each agent)\n",
    "            dones = env_info.local_done                        # see if episode finished\n",
    "            agent.step(states, actions, rewards, next_states, dones)\n",
    "            scores += rewards                         # update the score (for each agent)\n",
    "            states = next_states                               # roll over states to next time step\n",
    "            if np.any(dones):                                  # exit loop if episode finished\n",
    "                break\n",
    "        \n",
    "        episode_end_time = time.time()\n",
    "        episode_duration = episode_end_time - episode_start_time\n",
    "        \n",
    "        score = np.mean(scores)\n",
    "        scores_deque.append(score)\n",
    "        avg_score.append(score)\n",
    "        \n",
    "        # Calculate current average (even for early episodes)\n",
    "        current_avg = np.mean(scores_deque)\n",
    "        total_elapsed = episode_end_time - start_time\n",
    "        \n",
    "        # Update tqdm with current stats every episode\n",
    "        pbar.set_postfix({\n",
    "            'Score': f'{score:.2f}',\n",
    "            'Avg': f'{current_avg:.2f}',\n",
    "            'Time': f'{episode_duration:.1f}s',\n",
    "            'Total': f'{total_elapsed/60:.1f}m'\n",
    "        })\n",
    "        \n",
    "        # Keep your original print format every 10 episodes\n",
    "        if i_episode % 10 == 0:\n",
    "            print(f'\\rEpisode {i_episode}\\tAverage Score: {current_avg:.2f}')\n",
    "        \n",
    "        # Save checkpoints every 50 episodes as backup\n",
    "        if i_episode % 50 == 0:\n",
    "            torch.save(agent.actor_local.state_dict(), f'checkpoint_actor_ep{i_episode}.pth')\n",
    "            torch.save(agent.critic_local.state_dict(), f'checkpoint_critic_ep{i_episode}.pth')\n",
    "        \n",
    "        if current_avg >= 30:\n",
    "            print(f'\\nEnvironment Solved in Episode {i_episode}\\tAverage Score: {current_avg:.2f}')\n",
    "            torch.save(agent.actor_local.state_dict(), 'checkpoint_actor.pth')\n",
    "            torch.save(agent.critic_local.state_dict(), 'checkpoint_critic.pth')\n",
    "            break\n",
    "    \n",
    "    pbar.close()\n",
    "    return avg_score\n",
    "\n",
    "# To resume training, call with the episode number you want to start from\n",
    "# If you were at episode 150 when it stopped, start from 151\n",
    "scores = ddpg(resume_from_checkpoint=True, start_episode=1)  # Adjust start_episode as needed\n"
   ]
  },
  {
   "cell_type": "code",
   "execution_count": 22,
   "metadata": {},
   "outputs": [
    {
     "data": {
      "image/png": "[encoded data removed]",
      "text/plain": [
       "<Figure size 1200x800 with 1 Axes>"
      ]
     },
     "metadata": {},
     "output_type": "display_data"
    }
   ],
   "source": [
    "import matplotlib.pyplot as plt\n",
    "import numpy as np\n",
    "\n",
    "# Set the style\n",
    "plt.style.use('dark_background')\n",
    "fig = plt.figure(figsize=(12, 8))\n",
    "ax = fig.add_subplot(111)\n",
    "\n",
    "# Create the main plot with gradient effect\n",
    "episodes = np.arange(1, len(scores) + 1)\n",
    "line = ax.plot(episodes, scores, linewidth=3, color='#00ff88', alpha=0.9, label='Score')[0]\n",
    "\n",
    "# Add a subtle fill under the curve\n",
    "ax.fill_between(episodes, scores, alpha=0.2, color='#00ff88')\n",
    "\n",
    "# Customize the appearance\n",
    "ax.set_facecolor('#1a1a1a')\n",
    "fig.patch.set_facecolor('#0d1117')\n",
    "\n",
    "# Enhanced labels and title\n",
    "ax.set_ylabel('Score', fontsize=14, fontweight='bold', color='white')\n",
    "ax.set_xlabel('Episode #', fontsize=14, fontweight='bold', color='white')\n",
    "ax.set_title('DDPG Training Progress', fontsize=18, fontweight='bold', \n",
    "             color='white', pad=20)\n",
    "\n",
    "# Grid styling\n",
    "ax.grid(True, linestyle='-', alpha=0.2, color='white')\n",
    "ax.set_axisbelow(True)\n",
    "\n",
    "# Customize ticks\n",
    "ax.tick_params(colors='white', labelsize=12)\n",
    "\n",
    "# Add some statistics as text\n",
    "max_score = np.max(scores)\n",
    "avg_score = np.mean(scores)\n",
    "final_score = scores[-1]\n",
    "\n",
    "# Legend\n",
    "ax.legend(loc='lower right', fontsize=12, fancybox=True, shadow=True)\n",
    "\n",
    "# Tight layout\n",
    "plt.tight_layout()\n",
    "\n",
    "# Add some flair with spine customization\n",
    "for spine in ax.spines.values():\n",
    "    spine.set_color('#333333')\n",
    "    spine.set_linewidth(2)\n",
    "\n",
    "plt.show()"
   ]
  },
  {
   "cell_type": "code",
   "execution_count": 23,
   "metadata": {},
   "outputs": [],
   "source": [
    "agent = Agent(state_size=33, action_size=4, random_seed=2)\n",
    "\n",
    "agent.actor_local.load_state_dict(torch.load('checkpoint_actor.pth'))\n",
    "agent.critic_local.load_state_dict(torch.load('checkpoint_critic.pth'))\n",
    "env_info = env.reset(train_mode=False)[brain_name]  \n",
    "states = env_info.vector_observations \n",
    "for t in range(500):\n",
    "    actions = agent.act(states)                        # all actions between -1 and 1\n",
    "    env_info = env.step(actions)[brain_name]           # send all actions to tne environment\n",
    "    next_states = env_info.vector_observations         # get next state (for each agent)\n",
    "    rewards = env_info.rewards                         # get reward (for each agent)\n",
    "    dones = env_info.local_done   \n",
    "    states = next_states                               # roll over states to next time step\n",
    "    if np.any(dones):                                  # exit loop if episode finished\n",
    "        break"
   ]
  },
  {
   "cell_type": "code",
   "execution_count": 24,
   "metadata": {},
   "outputs": [],
   "source": [
    "env.close()"
   ]
  },
  {
   "cell_type": "code",
   "execution_count": null,
   "metadata": {},
   "outputs": [],
   "source": []
  }
 ],
 "metadata": {
  "kernelspec": {
   "display_name": "Python 3 (ipykernel)",
   "language": "python",
   "name": "python3"
  },
  "language_info": {
   "codemirror_mode": {
    "name": "ipython",
    "version": 3
   },
   "file_extension": ".py",
   "mimetype": "text/x-python",
   "name": "python",
   "nbconvert_exporter": "python",
   "pygments_lexer": "ipython3",
   "version": "3.11.0rc1"
  }
 },
 "nbformat": 4,
 "nbformat_minor": 2
}
